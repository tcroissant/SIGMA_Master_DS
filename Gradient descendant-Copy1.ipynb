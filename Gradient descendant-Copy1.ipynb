{
 "cells": [
  {
   "cell_type": "code",
   "execution_count": 1,
   "metadata": {},
   "outputs": [
    {
     "data": {
      "text/html": [
       "<style>.container {width:100% !important:=;}</style>"
      ],
      "text/plain": [
       "<IPython.core.display.HTML object>"
      ]
     },
     "metadata": {},
     "output_type": "display_data"
    }
   ],
   "source": [
    "# import used packages\n",
    "import numpy as np\n",
    "import pickle # save and laod binary files (data, model)\n",
    "\n",
    "#Set jupyter display in full screen\n",
    "from IPython.core.display import display, HTML\n",
    "display(HTML(\"<style>.container {width:100% !important:=;}</style>\"))"
   ]
  },
  {
   "cell_type": "code",
   "execution_count": 2,
   "metadata": {},
   "outputs": [],
   "source": [
    "#function to import and export data from cPickle format\n",
    "\n",
    "def unpickle(file):\n",
    "    with open(file, 'rb') as fo:\n",
    "        dict = pickle.load(fo, encoding = 'bytes')\n",
    "    return dict\n",
    "\n",
    "def save_obj(obj, name):\n",
    "    with open('export/' + name + '.pkl', 'wb') as f:\n",
    "        pickle.dump(obj, f, pickle.HIGHEST_PROTOCOL)"
   ]
  },
  {
   "cell_type": "markdown",
   "metadata": {},
   "source": [
    "# 1) Préparer les données"
   ]
  },
  {
   "cell_type": "code",
   "execution_count": 3,
   "metadata": {},
   "outputs": [],
   "source": [
    "# Importer les données dans des array numpy (2 fichiers: features et labels). Utiliser les fonctions de pickle définies plus haut.\n",
    "# Regarder les dimensions des données\n",
    "featuresFile = 'C:/Users/thiba/Documents/MASTER DS/Data_Science/Sigma_features.pkl'\n",
    "labelFile = 'C:/Users/thiba/Documents/MASTER DS/Data_Science/Sigma_labels.pkl'"
   ]
  },
  {
   "cell_type": "code",
   "execution_count": 4,
   "metadata": {},
   "outputs": [
    {
     "data": {
      "text/plain": [
       "array([[625.0, 1.0, 64, ..., 1, 0, 0.0],\n",
       "       [625.0, 1.0, 64, ..., 1, 0, 0.0],\n",
       "       [954.0, 1.0, 64, ..., 0, 1, 0.0],\n",
       "       ...,\n",
       "       [1406.0, 8.0, 2048, ..., 0, 1, 271.0],\n",
       "       [1582.0, 11.0, 352, ..., 0, 1, 113.0],\n",
       "       [1423.0, 8.0, 2048, ..., 0, 1, 188.0]], dtype=object)"
      ]
     },
     "execution_count": 4,
     "metadata": {},
     "output_type": "execute_result"
    }
   ],
   "source": [
    "unpickle(featuresFile)"
   ]
  },
  {
   "cell_type": "code",
   "execution_count": 5,
   "metadata": {},
   "outputs": [
    {
     "data": {
      "text/plain": [
       "array([  37.94,   39.95,   39.95,   39.95,   41.95,   41.95,   41.95,\n",
       "         44.95,   44.95,   49.96,   49.99,   51.95,   52.96,   56.95,\n",
       "         58.96,   61.95,   69.95,   72.95,   76.95,   78.95,   78.95,\n",
       "         83.95,   84.95,   89.95,   89.95,   92.95,   92.95,   92.95,\n",
       "         94.96,   94.96,   96.95,   99.95,   99.95,  104.95,  109.95,\n",
       "        109.96,  119.95,  129.95,  129.95,  134.95,  134.95,  138.95,\n",
       "        139.96,  139.99,  143.95,  144.95,  144.95,  149.95,  149.95,\n",
       "        154.96,  154.96,  158.95,  159.95,  159.95,  159.95,  159.95,\n",
       "        159.95,  164.95,  168.95,  169.96,  169.96,  169.96,  169.96,\n",
       "        174.95,  175.96,  179.95,  184.96,  184.96,  187.96,  189.95,\n",
       "        189.95,  194.95,  199.96,  199.96,  199.96,  207.95,  212.95,\n",
       "        214.96,  214.96,  216.95,  219.95,  219.95,  219.95,  224.95,\n",
       "        229.96,  229.96,  234.95,  249.95,  259.96,  264.95,  269.95,\n",
       "        274.96,  274.96,  274.96,  274.96,  279.95,  279.95,  289.96,\n",
       "        299.95,  312.95,  314.95,  334.96,  334.96,  339.95,  339.95,\n",
       "        339.95,  339.95,  339.95,  349.95,  349.96,  349.96,  349.96,\n",
       "        349.96,  349.96,  349.96,  354.95,  359.95,  362.95,  364.96,\n",
       "        364.96,  367.96,  369.95,  377.95,  379.96,  379.96,  379.96,\n",
       "        379.96,  389.95,  389.95,  389.95,  399.95,  399.95,  399.95,\n",
       "        399.95,  399.95,  419.95,  429.95,  429.95,  429.95,  439.96,\n",
       "        439.96,  449.95,  449.95,  459.95,  459.95,  469.96,  469.96,\n",
       "        479.95,  489.95,  499.96,  519.95,  529.96,  529.96,  534.95,\n",
       "        539.95,  539.95,  544.96,  549.95,  549.95,  549.95,  549.95,\n",
       "        554.95,  564.95,  564.95,  568.96,  569.95,  574.96,  579.95,\n",
       "        579.95,  579.95,  589.96,  594.95,  599.95,  609.95,  614.95,\n",
       "        619.96,  619.96,  624.95,  629.95,  634.96,  639.95,  639.95,\n",
       "        649.96,  649.96,  649.96,  649.96,  649.96,  659.95,  669.95,\n",
       "        689.95,  689.95,  689.95,  699.95,  699.95,  699.95,  699.95,\n",
       "        699.95,  704.95,  729.95,  739.96,  749.95,  779.95,  789.95,\n",
       "        859.96,  864.95,  879.95,  899.95,  899.95,  899.95,  899.95,\n",
       "        899.95,  899.95,  929.95,  939.95,  959.95,  969.95,  979.96,\n",
       "        979.96,  989.95,  989.95,  999.95,  999.95,  999.95,  999.95,\n",
       "        999.95,  999.95,  999.95, 1019.95, 1019.95, 1019.95, 1029.95,\n",
       "       1029.95, 1039.96, 1052.95, 1079.95, 1079.95, 1099.96, 1099.96])"
      ]
     },
     "execution_count": 5,
     "metadata": {},
     "output_type": "execute_result"
    }
   ],
   "source": [
    "unpickle(labelFile)"
   ]
  },
  {
   "cell_type": "code",
   "execution_count": 6,
   "metadata": {},
   "outputs": [],
   "source": [
    "# Ajouter le biai dans les variables (features). Equivaut à rajouter une variable (une colonne)."
   ]
  },
  {
   "cell_type": "code",
   "execution_count": 7,
   "metadata": {},
   "outputs": [
    {
     "name": "stdout",
     "output_type": "stream",
     "text": [
      "238\n"
     ]
    }
   ],
   "source": [
    "features = unpickle(featuresFile)\n",
    "label = unpickle(labelFile)\n",
    "\n",
    "print(len(features));"
   ]
  },
  {
   "cell_type": "code",
   "execution_count": 8,
   "metadata": {},
   "outputs": [
    {
     "name": "stdout",
     "output_type": "stream",
     "text": [
      "[[1.]\n",
      " [1.]\n",
      " [1.]\n",
      " [1.]\n",
      " [1.]\n",
      " [1.]\n",
      " [1.]\n",
      " [1.]\n",
      " [1.]\n",
      " [1.]\n",
      " [1.]\n",
      " [1.]\n",
      " [1.]\n",
      " [1.]\n",
      " [1.]\n",
      " [1.]\n",
      " [1.]\n",
      " [1.]\n",
      " [1.]\n",
      " [1.]\n",
      " [1.]\n",
      " [1.]\n",
      " [1.]\n",
      " [1.]\n",
      " [1.]\n",
      " [1.]\n",
      " [1.]\n",
      " [1.]\n",
      " [1.]\n",
      " [1.]\n",
      " [1.]\n",
      " [1.]\n",
      " [1.]\n",
      " [1.]\n",
      " [1.]\n",
      " [1.]\n",
      " [1.]\n",
      " [1.]\n",
      " [1.]\n",
      " [1.]\n",
      " [1.]\n",
      " [1.]\n",
      " [1.]\n",
      " [1.]\n",
      " [1.]\n",
      " [1.]\n",
      " [1.]\n",
      " [1.]\n",
      " [1.]\n",
      " [1.]\n",
      " [1.]\n",
      " [1.]\n",
      " [1.]\n",
      " [1.]\n",
      " [1.]\n",
      " [1.]\n",
      " [1.]\n",
      " [1.]\n",
      " [1.]\n",
      " [1.]\n",
      " [1.]\n",
      " [1.]\n",
      " [1.]\n",
      " [1.]\n",
      " [1.]\n",
      " [1.]\n",
      " [1.]\n",
      " [1.]\n",
      " [1.]\n",
      " [1.]\n",
      " [1.]\n",
      " [1.]\n",
      " [1.]\n",
      " [1.]\n",
      " [1.]\n",
      " [1.]\n",
      " [1.]\n",
      " [1.]\n",
      " [1.]\n",
      " [1.]\n",
      " [1.]\n",
      " [1.]\n",
      " [1.]\n",
      " [1.]\n",
      " [1.]\n",
      " [1.]\n",
      " [1.]\n",
      " [1.]\n",
      " [1.]\n",
      " [1.]\n",
      " [1.]\n",
      " [1.]\n",
      " [1.]\n",
      " [1.]\n",
      " [1.]\n",
      " [1.]\n",
      " [1.]\n",
      " [1.]\n",
      " [1.]\n",
      " [1.]\n",
      " [1.]\n",
      " [1.]\n",
      " [1.]\n",
      " [1.]\n",
      " [1.]\n",
      " [1.]\n",
      " [1.]\n",
      " [1.]\n",
      " [1.]\n",
      " [1.]\n",
      " [1.]\n",
      " [1.]\n",
      " [1.]\n",
      " [1.]\n",
      " [1.]\n",
      " [1.]\n",
      " [1.]\n",
      " [1.]\n",
      " [1.]\n",
      " [1.]\n",
      " [1.]\n",
      " [1.]\n",
      " [1.]\n",
      " [1.]\n",
      " [1.]\n",
      " [1.]\n",
      " [1.]\n",
      " [1.]\n",
      " [1.]\n",
      " [1.]\n",
      " [1.]\n",
      " [1.]\n",
      " [1.]\n",
      " [1.]\n",
      " [1.]\n",
      " [1.]\n",
      " [1.]\n",
      " [1.]\n",
      " [1.]\n",
      " [1.]\n",
      " [1.]\n",
      " [1.]\n",
      " [1.]\n",
      " [1.]\n",
      " [1.]\n",
      " [1.]\n",
      " [1.]\n",
      " [1.]\n",
      " [1.]\n",
      " [1.]\n",
      " [1.]\n",
      " [1.]\n",
      " [1.]\n",
      " [1.]\n",
      " [1.]\n",
      " [1.]\n",
      " [1.]\n",
      " [1.]\n",
      " [1.]\n",
      " [1.]\n",
      " [1.]\n",
      " [1.]\n",
      " [1.]\n",
      " [1.]\n",
      " [1.]\n",
      " [1.]\n",
      " [1.]\n",
      " [1.]\n",
      " [1.]\n",
      " [1.]\n",
      " [1.]\n",
      " [1.]\n",
      " [1.]\n",
      " [1.]\n",
      " [1.]\n",
      " [1.]\n",
      " [1.]\n",
      " [1.]\n",
      " [1.]\n",
      " [1.]\n",
      " [1.]\n",
      " [1.]\n",
      " [1.]\n",
      " [1.]\n",
      " [1.]\n",
      " [1.]\n",
      " [1.]\n",
      " [1.]\n",
      " [1.]\n",
      " [1.]\n",
      " [1.]\n",
      " [1.]\n",
      " [1.]\n",
      " [1.]\n",
      " [1.]\n",
      " [1.]\n",
      " [1.]\n",
      " [1.]\n",
      " [1.]\n",
      " [1.]\n",
      " [1.]\n",
      " [1.]\n",
      " [1.]\n",
      " [1.]\n",
      " [1.]\n",
      " [1.]\n",
      " [1.]\n",
      " [1.]\n",
      " [1.]\n",
      " [1.]\n",
      " [1.]\n",
      " [1.]\n",
      " [1.]\n",
      " [1.]\n",
      " [1.]\n",
      " [1.]\n",
      " [1.]\n",
      " [1.]\n",
      " [1.]\n",
      " [1.]\n",
      " [1.]\n",
      " [1.]\n",
      " [1.]\n",
      " [1.]\n",
      " [1.]\n",
      " [1.]\n",
      " [1.]\n",
      " [1.]\n",
      " [1.]\n",
      " [1.]\n",
      " [1.]\n",
      " [1.]\n",
      " [1.]\n",
      " [1.]\n",
      " [1.]\n",
      " [1.]\n",
      " [1.]\n",
      " [1.]]\n"
     ]
    }
   ],
   "source": [
    "biai=np.ones((len(features),1))\n",
    "print(biai)"
   ]
  },
  {
   "cell_type": "code",
   "execution_count": 9,
   "metadata": {},
   "outputs": [
    {
     "name": "stdout",
     "output_type": "stream",
     "text": [
      "[[625.0 1.0 64 ... 0 0.0 1.0]\n",
      " [625.0 1.0 64 ... 0 0.0 1.0]\n",
      " [954.0 1.0 64 ... 1 0.0 1.0]\n",
      " ...\n",
      " [1406.0 8.0 2048 ... 1 271.0 1.0]\n",
      " [1582.0 11.0 352 ... 1 113.0 1.0]\n",
      " [1423.0 8.0 2048 ... 1 188.0 1.0]]\n"
     ]
    }
   ],
   "source": [
    "featbiai=np.hstack([features,biai])\n",
    "\n",
    "print(featbiai)"
   ]
  },
  {
   "cell_type": "markdown",
   "metadata": {},
   "source": [
    "# 2) Définir le modèle (régression linéaire)"
   ]
  },
  {
   "cell_type": "code",
   "execution_count": 10,
   "metadata": {},
   "outputs": [],
   "source": [
    "# Créer le vecteur de paramètres aléatoires (attention aux dimensions). Pour tester, il faut donc l'initialiser aléatoirement."
   ]
  },
  {
   "cell_type": "code",
   "execution_count": 11,
   "metadata": {},
   "outputs": [
    {
     "name": "stdout",
     "output_type": "stream",
     "text": [
      "[[0.44230013]\n",
      " [0.0104347 ]\n",
      " [0.28445732]\n",
      " [0.43474923]\n",
      " [0.28915728]\n",
      " [0.26251696]\n",
      " [0.65611167]\n",
      " [0.30830695]\n",
      " [0.09996987]\n",
      " [0.6465411 ]\n",
      " [0.86677247]\n",
      " [0.05322391]\n",
      " [0.7806749 ]\n",
      " [0.02891223]\n",
      " [0.12306205]\n",
      " [0.30813829]\n",
      " [0.3599244 ]\n",
      " [0.88555179]\n",
      " [0.72260035]\n",
      " [0.63224808]\n",
      " [0.98095113]\n",
      " [0.01709088]\n",
      " [0.40367877]\n",
      " [0.76182508]\n",
      " [0.71173426]\n",
      " [0.51254525]\n",
      " [0.07178533]\n",
      " [0.37055965]\n",
      " [0.98543641]\n",
      " [0.24039835]\n",
      " [0.45999881]\n",
      " [0.49386216]\n",
      " [0.49990357]]\n"
     ]
    }
   ],
   "source": [
    "theta=np.random.rand(1,len(featbiai[0])).T\n",
    "\n",
    "print(theta)"
   ]
  },
  {
   "cell_type": "code",
   "execution_count": 12,
   "metadata": {},
   "outputs": [],
   "source": [
    "# Définition du modèle (hypothèse) qui permet de combiner les variables et les paramètres. On doit utiliser une fonction python."
   ]
  },
  {
   "cell_type": "code",
   "execution_count": 13,
   "metadata": {},
   "outputs": [],
   "source": [
    "# Multiplication matricielle\n",
    "def modele(a,b):\n",
    "    # a la matrice ligne de parametres, theta\n",
    "    # b la matrice de variables, x\n",
    "    # ressort une matrice ligne\n",
    "    return np.dot(a,b)\n",
    "    "
   ]
  },
  {
   "cell_type": "code",
   "execution_count": 14,
   "metadata": {},
   "outputs": [
    {
     "data": {
      "text/plain": [
       "(238, 33)"
      ]
     },
     "execution_count": 14,
     "metadata": {},
     "output_type": "execute_result"
    }
   ],
   "source": [
    "featbiai.shape"
   ]
  },
  {
   "cell_type": "code",
   "execution_count": 15,
   "metadata": {
    "scrolled": true
   },
   "outputs": [
    {
     "name": "stdout",
     "output_type": "stream",
     "text": [
      "[[645.984427047182]\n",
      " [617.9246661832511]\n",
      " [859.841584623744]\n",
      " [646.5428925683001]\n",
      " [859.603068891796]\n",
      " [2690.199304247945]\n",
      " [859.603068891796]\n",
      " [647.8976519332143]\n",
      " [647.4719559006181]\n",
      " [646.5533272640247]\n",
      " [859.6135035875207]\n",
      " [628.9926042182158]\n",
      " [860.2007223660922]\n",
      " [859.6135035875207]\n",
      " [647.9083370616363]\n",
      " [646.9033061164728]\n",
      " [895.8898119186736]\n",
      " [1205.5163616818181]\n",
      " [999.2042156195739]\n",
      " [1490.4097189003503]\n",
      " [1485.4164680060794]\n",
      " [1502.0609216409239]\n",
      " [1092.3558184683732]\n",
      " [1483.289343621254]\n",
      " [1489.8138227512093]\n",
      " [1489.8138227512093]\n",
      " [1489.8138227512093]\n",
      " [1525.3640219653819]\n",
      " [1495.0171532640536]\n",
      " [1489.8138227512093]\n",
      " [3807.2816130650735]\n",
      " [1710.0535200824092]\n",
      " [1524.848130654161]\n",
      " [1710.0535200824092]\n",
      " [1514.4243162921941]\n",
      " [1562.3761540611379]\n",
      " [3796.7157166537554]\n",
      " [1502.6865054206899]\n",
      " [1661.4862613119828]\n",
      " [1702.8897494208004]\n",
      " [1731.22860329189]\n",
      " [1713.7843013192398]\n",
      " [1704.2347126543468]\n",
      " [3969.729464835557]\n",
      " [1734.1587474074884]\n",
      " [1730.591706394885]\n",
      " [1707.1876491326368]\n",
      " [1684.1697334244816]\n",
      " [1683.3233271339384]\n",
      " [4004.0145812904066]\n",
      " [1719.5342030556449]\n",
      " [1684.716304648042]\n",
      " [1724.204751615736]\n",
      " [1683.3233271339384]\n",
      " [1713.0885679256858]\n",
      " [3967.463509825486]\n",
      " [1661.507130703432]\n",
      " [1684.1697334244816]\n",
      " [1712.4486189894076]\n",
      " [1735.0993035141755]\n",
      " [3784.190233789716]\n",
      " [1692.5429822296092]\n",
      " [1659.3611237659159]\n",
      " [1734.433431056194]\n",
      " [1692.5429822296092]\n",
      " [1692.5429822296092]\n",
      " [1724.3637883122155]\n",
      " [1531.8596175661826]\n",
      " [1722.256660998006]\n",
      " [1693.3893885201524]\n",
      " [1693.9359597437128]\n",
      " [1717.202492655155]\n",
      " [1717.2492386218084]\n",
      " [1746.9210951242655]\n",
      " [1722.256660998006]\n",
      " [1733.4482981461797]\n",
      " [1722.9523943915601]\n",
      " [1734.0566436974536]\n",
      " [1711.9464530756704]\n",
      " [1693.3893885201524]\n",
      " [1728.7538581513156]\n",
      " [1712.5397702658843]\n",
      " [1740.353116657419]\n",
      " [4029.3093744058774]\n",
      " [1694.0700935526463]\n",
      " [1728.1406965433443]\n",
      " [1745.5612632269608]\n",
      " [2105.779089062424]\n",
      " [2129.3672297818466]\n",
      " [2105.5930454426766]\n",
      " [2146.9219302743963]\n",
      " [2200.7986121413855]\n",
      " [2169.6556812330855]\n",
      " [2135.370564778236]\n",
      " [2129.3672297818466]\n",
      " [1992.5312301423805]\n",
      " [2150.935665236767]\n",
      " [2106.4367019159713]\n",
      " [2129.3672297818466]\n",
      " [2142.822525245354]\n",
      " [2162.35096732895]\n",
      " [2183.9653664573266]\n",
      " [2141.953026775864]\n",
      " [4370.267861841827]\n",
      " [4364.960260238991]\n",
      " [2200.8299162285593]\n",
      " [2172.414000961166]\n",
      " [2088.7499306881055]\n",
      " [2188.3986535339745]\n",
      " [4365.123211679792]\n",
      " [4389.937404798858]\n",
      " [2143.4801380989015]\n",
      " [2165.541167495286]\n",
      " [2150.340796974378]\n",
      " [2115.9350046209343]\n",
      " [2150.340796974378]\n",
      " [2205.829618946526]\n",
      " [2142.7994330664073]\n",
      " [2212.4490191524205]\n",
      " [2166.410665964776]\n",
      " [2251.2398627294406]\n",
      " [2364.277262302322]\n",
      " [2188.3986535339745]\n",
      " [2141.9299345969175]\n",
      " [2198.52490504239]\n",
      " [2102.3339731715305]\n",
      " [2275.451720843822]\n",
      " [2082.9738940183447]\n",
      " [2367.3375892905437]\n",
      " [2200.8299162285593]\n",
      " [2141.7669831561166]\n",
      " [2160.69669655989]\n",
      " [2088.791669471004]\n",
      " [2271.730775284405]\n",
      " [2150.3825357572764]\n",
      " [2100.8721474545323]\n",
      " [2239.1136301232355]\n",
      " [2361.8878993668322]\n",
      " [2274.8225319486787]\n",
      " [2370.733902038224]\n",
      " [2075.838499623213]\n",
      " [2444.9599989713874]\n",
      " [2075.838499623213]\n",
      " [2367.5932717402534]\n",
      " [2390.741885044451]\n",
      " [2370.733902038224]\n",
      " [2075.8802384061105]\n",
      " [2379.424205429754]\n",
      " [2258.8642242711207]\n",
      " [2362.0962364468005]\n",
      " [2382.0110617332994]\n",
      " [2394.357615656307]\n",
      " [2406.003444466128]\n",
      " [2417.5852287719167]\n",
      " [2352.839138131765]\n",
      " [2371.5468755842726]\n",
      " [2371.5468755842726]\n",
      " [2353.730930061476]\n",
      " [2534.92967463772]\n",
      " [2352.839138131765]\n",
      " [2452.4621861540118]\n",
      " [2515.2003009100563]\n",
      " [2371.1632558015135]\n",
      " [2382.169629688768]\n",
      " [2393.0637490158424]\n",
      " [2516.1629126747475]\n",
      " [5145.8706270750035]\n",
      " [2405.9041650957706]\n",
      " [5023.772055149168]\n",
      " [2421.2381809626086]\n",
      " [2412.668151271085]\n",
      " [2404.292187266073]\n",
      " [2516.756229864961]\n",
      " [2433.569881344725]\n",
      " [2501.919816711703]\n",
      " [6054.721195639362]\n",
      " [2516.756229864961]\n",
      " [2372.452306385281]\n",
      " [2516.756229864961]\n",
      " [6047.275197554611]\n",
      " [2516.209658641401]\n",
      " [6076.90692696983]\n",
      " [2550.3318236554496]\n",
      " [6112.671441926981]\n",
      " [6089.154025859545]\n",
      " [6110.171317298412]\n",
      " [2469.988001235637]\n",
      " [2353.522592981508]\n",
      " [2553.5802311265447]\n",
      " [6135.022188879247]\n",
      " [6106.308378582604]\n",
      " [6088.799467078742]\n",
      " [2524.558569342393]\n",
      " [6077.6026603633845]\n",
      " [2515.17720873111]\n",
      " [2515.2003009100563]\n",
      " [6153.127162126124]\n",
      " [6059.0455958078655]\n",
      " [6139.369681226696]\n",
      " [6073.301913982588]\n",
      " [6106.008176901843]\n",
      " [6122.768836010835]\n",
      " [2516.209658641401]\n",
      " [6830.0047096474345]\n",
      " [7046.328257502737]\n",
      " [6135.022188879247]\n",
      " [6795.134102173192]\n",
      " [2844.612531047851]\n",
      " [6795.1571943521385]\n",
      " [6857.092705757722]\n",
      " [6853.40753414507]\n",
      " [7046.328257502737]\n",
      " [6815.552366720273]\n",
      " [6830.845519451769]\n",
      " [6826.609870059513]\n",
      " [2876.9495337129747]\n",
      " [6816.892979327393]\n",
      " [6894.959212565826]\n",
      " [6891.736193553181]\n",
      " [6965.883751648506]\n",
      " [6813.737912695364]\n",
      " [3081.324684959901]\n",
      " [3074.1161711731015]\n",
      " [3079.371991252014]\n",
      " [6894.959212565826]\n",
      " [2854.1849984034934]\n",
      " [3074.709488363315]\n",
      " [6860.626263730113]\n",
      " [6949.0763465728605]\n",
      " [6965.883751648506]\n",
      " [6830.0047096474345]\n",
      " [6813.69116672871]\n",
      " [3163.2563842335812]\n",
      " [3038.3017858363114]\n",
      " [6965.883751648506]\n",
      " [3163.8497014237946]\n",
      " [6868.490798718067]\n",
      " [3133.8790344133663]]\n"
     ]
    }
   ],
   "source": [
    "print(modele(featbiai,theta))"
   ]
  },
  {
   "cell_type": "markdown",
   "metadata": {},
   "source": [
    "# 3) Descente de gradient"
   ]
  },
  {
   "cell_type": "code",
   "execution_count": 16,
   "metadata": {},
   "outputs": [],
   "source": [
    "#Fonction de coût. Utilisation d'un fonction Python"
   ]
  },
  {
   "cell_type": "code",
   "execution_count": 17,
   "metadata": {},
   "outputs": [],
   "source": [
    "label=label.reshape(-1,1)"
   ]
  },
  {
   "cell_type": "code",
   "execution_count": 18,
   "metadata": {},
   "outputs": [
    {
     "data": {
      "text/plain": [
       "(238, 1)"
      ]
     },
     "execution_count": 18,
     "metadata": {},
     "output_type": "execute_result"
    }
   ],
   "source": [
    "label.shape"
   ]
  },
  {
   "cell_type": "code",
   "execution_count": 19,
   "metadata": {},
   "outputs": [
    {
     "data": {
      "text/plain": [
       "(33, 1)"
      ]
     },
     "execution_count": 19,
     "metadata": {},
     "output_type": "execute_result"
    }
   ],
   "source": [
    "theta.shape"
   ]
  },
  {
   "cell_type": "code",
   "execution_count": 20,
   "metadata": {},
   "outputs": [],
   "source": [
    "def cout(a,b,c):\n",
    "    # a matrice des échantillons\n",
    "    # b matrice des parametres\n",
    "    # c matrice des valeurs réelles\n",
    "    m = len(featbiai[0])\n",
    "    return ((np.sum(np.square(modele(a, b)-c)))/(2*m));"
   ]
  },
  {
   "cell_type": "code",
   "execution_count": 21,
   "metadata": {},
   "outputs": [],
   "source": [
    "m_cout = cout(featbiai,theta, label)"
   ]
  },
  {
   "cell_type": "code",
   "execution_count": 22,
   "metadata": {},
   "outputs": [
    {
     "name": "stdout",
     "output_type": "stream",
     "text": [
      "30577291.850966323\n"
     ]
    }
   ],
   "source": [
    "print(m_cout)"
   ]
  },
  {
   "cell_type": "code",
   "execution_count": 26,
   "metadata": {},
   "outputs": [],
   "source": [
    "# Dérivée de la fonction de cout == gradients.\n",
    "# Attention aux dimensions lors de la somme.\n",
    "# Poser le caltul matriciel sur papier pour être sûr."
   ]
  },
  {
   "cell_type": "code",
   "execution_count": 37,
   "metadata": {},
   "outputs": [],
   "source": [
    "def d_cout(a,b,c):\n",
    "    # a matrice des échantillons x\n",
    "    # b matrice des parametres theta\n",
    "    # c matrice des valeurs réelles y\n",
    "    return (((modele(a, b) - c) * a).sum(axis=0) / a.shape[0]).reshape(a.shape[1],1)\n",
    "    "
   ]
  },
  {
   "cell_type": "code",
   "execution_count": 32,
   "metadata": {},
   "outputs": [
    {
     "data": {
      "text/plain": [
       "33"
      ]
     },
     "execution_count": 32,
     "metadata": {},
     "output_type": "execute_result"
    }
   ],
   "source": [
    "len(featbiai[0])"
   ]
  },
  {
   "cell_type": "code",
   "execution_count": 30,
   "metadata": {},
   "outputs": [
    {
     "data": {
      "text/plain": [
       "5806518773.277067"
      ]
     },
     "execution_count": 30,
     "metadata": {},
     "output_type": "execute_result"
    }
   ],
   "source": [
    "np.sum(np.dot(featbiai.T,(modele(featbiai,theta)-label)))"
   ]
  },
  {
   "cell_type": "code",
   "execution_count": 39,
   "metadata": {},
   "outputs": [
    {
     "data": {
      "text/plain": [
       "(33, 1)"
      ]
     },
     "execution_count": 39,
     "metadata": {},
     "output_type": "execute_result"
    }
   ],
   "source": [
    "d_cout(featbiai, theta, label).shape"
   ]
  },
  {
   "cell_type": "code",
   "execution_count": null,
   "metadata": {},
   "outputs": [],
   "source": [
    "# gradient descent : mise à jour des paramètres. Il faudra définir un alpha. On utilisera une fonction qui prendra l'objet paramètres en arguments."
   ]
  },
  {
   "cell_type": "code",
   "execution_count": null,
   "metadata": {},
   "outputs": [],
   "source": [
    "# Fonction pour tester l'évolution de la fonction de cout : vrai = continuer la descente du gradient\n",
    "# Si la fonction de coût a diminué de moins de epsilon % entre deux étapes : on arrête la descente de gradients\n",
    "# epsilon << 1 à fixer"
   ]
  },
  {
   "cell_type": "markdown",
   "metadata": {},
   "source": [
    "# 4) Combination du tout dans une boucle"
   ]
  },
  {
   "cell_type": "code",
   "execution_count": null,
   "metadata": {},
   "outputs": [],
   "source": [
    "# Initialisation. Créer une fonction d'initialisation qui\n",
    "# retourne les objets dont on aura besoin pour notre descente de gradients (paramètres)"
   ]
  },
  {
   "cell_type": "code",
   "execution_count": null,
   "metadata": {},
   "outputs": [],
   "source": [
    "# On utilise une boucle while pour implémenter notre descente de gradient en utilisant toutes les fonctions\n",
    "# (tous les blocs de code) que nous avons créé.\n",
    "# Penser à ajouter un affichage de monitoring de la descente de gradient"
   ]
  },
  {
   "cell_type": "code",
   "execution_count": null,
   "metadata": {},
   "outputs": [],
   "source": []
  },
  {
   "cell_type": "code",
   "execution_count": null,
   "metadata": {},
   "outputs": [],
   "source": []
  }
 ],
 "metadata": {
  "kernelspec": {
   "display_name": "Python 3",
   "language": "python",
   "name": "python3"
  },
  "language_info": {
   "codemirror_mode": {
    "name": "ipython",
    "version": 3
   },
   "file_extension": ".py",
   "mimetype": "text/x-python",
   "name": "python",
   "nbconvert_exporter": "python",
   "pygments_lexer": "ipython3",
   "version": "3.6.5"
  }
 },
 "nbformat": 4,
 "nbformat_minor": 2
}
